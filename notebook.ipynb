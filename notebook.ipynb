{
 "cells": [
  {
   "cell_type": "markdown",
   "id": "95a7abd0",
   "metadata": {},
   "source": [
    "# Unit 2: Fisheries Collapse Module Overview\n",
    "\n",
    "This module will focus on examining a crucial global issue and important scientific debate about the state of global fisheries.  In this module we will seek to reproduce some of the most widely cited examples of species collapse ever, and examine the evidence behind an influential and widely cited paper on global fisheries, [Worm et al 2006](http://doi.org/10.1126/science.1132294).  However, rather than use the limited data available to Boris Worm and colleagues in 2006, we will be drawing from the best and most recent stock asssement data available today to see how those patterns have faired.  \n",
    "\n",
    "In this module we will also begin to master one of the most important concepts in data science: manipulation of tabular data using relational database concepts. Instead of working with independent data.frames, we will be working with a large relational database which contains many different tables of different sizes and shapes, but that all all related to each other through a series of different ids.  \n",
    "\n"
   ]
  },
  {
   "cell_type": "markdown",
   "id": "61ba8492-439d-46f0-b423-f6346d9cba53",
   "metadata": {},
   "source": [
    "## The Database\n",
    "\n",
    "We will use data from the RAM Legacy Stock Assessment Database.  In order to better introduce some important emerging technologies, we will be accessing these data directly from a relatively new platform that is now playing a key role in data sharing in machine learning communities, with the memorable name, HuggingFace.  We will be streaming data from <https://huggingface.co/datasets/cboettig/ram_fisheries/tree/main/v4.65>.  We will have more to say about this approach as we progress.\n",
    "\n"
   ]
  },
  {
   "cell_type": "markdown",
   "id": "a13f9198-5cc5-4af7-9853-f08fce59dac8",
   "metadata": {},
   "source": [
    "## Researcher Spotlight: Daniel Pauly\n",
    "\n",
    "Science is done by real people.  There are many influential and colorful characters in the global fisheries debate.  I want to highlight Professor Pauly not just because he is so famous, but as an early believer in Open Science and Data Science, before we had either of those words.  His contributions in making fisheries data more open were ground breaking for their time.  I'm also indebted to Professor Pauly whom I had the privilege to meet when I was a junior scientist who had only recently released one of my first software packages, aimed at making data from FishBase more accessible. Academic researchers are typically defined by scientific publications, not software, so I was shocked that Pauly already knew of my software package, and that he encouraged me to continue developing software.  Even today that is not common advice, but I believed him, and it's probably a good reason I am where I am today.  Scientific textbooks and courses are often critiqued for failing to recognize the contributions of those from minority backgrounds, but as the texts are written on global change ecology, I think none will omit the works for Professor Pauly.\n",
    "\n",
    "\n"
   ]
  },
  {
   "cell_type": "markdown",
   "id": "3a1b8944-1eda-4229-ad84-76facc592eac",
   "metadata": {},
   "source": [
    "## Science Introduction\n",
    "\n",
    "Background abbreviated documentary, features many of the leading authors on both sides https://vimeo.com/44104959"
   ]
  },
  {
   "cell_type": "code",
   "execution_count": 1,
   "id": "ffb87442",
   "metadata": {},
   "outputs": [],
   "source": [
    "import ibis\n",
    "from ibis import _\n",
    "import ibis.selectors as s\n",
    "import seaborn.objects as so"
   ]
  },
  {
   "cell_type": "markdown",
   "id": "cdbc9dc1-89db-4190-9683-9b7833e64207",
   "metadata": {},
   "source": [
    "\n",
    "# Exercise 1: Investigating the North-Atlantic Cod\n",
    "\n",
    "Now we are ready to dive into our data. First, We seek to replicate the following figure from the Millennium Ecosystem Assessment Project using the RAM data.\n",
    "\n",
    "![](https://espm-157.github.io/website-r/img/cod.jpg)\n"
   ]
  },
  {
   "cell_type": "code",
   "execution_count": 2,
   "id": "c8a426ad-d13a-4011-83f0-108e09036853",
   "metadata": {},
   "outputs": [],
   "source": [
    "con = ibis.duckdb.connect()\n",
    "\n",
    "base = \"https://huggingface.co/datasets/cboettig/ram_fisheries/resolve/main/v4.65/\"\n",
    "\n",
    "tsmetrics = con.read_csv(base + \"tsmetrics.csv\")\n",
    "timeseries = con.read_csv(base + \"timeseries.csv\")\n",
    "stock = con.read_csv(base + \"stock.csv\")\n",
    "assessment = con.read_csv(base + \"assessment.csv\")\n",
    "area = con.read_csv(base + \"area.csv\")"
   ]
  },
  {
   "cell_type": "code",
   "execution_count": 3,
   "id": "def3119f",
   "metadata": {},
   "outputs": [
    {
     "data": {
      "text/html": [
       "<div>\n",
       "<style scoped>\n",
       "    .dataframe tbody tr th:only-of-type {\n",
       "        vertical-align: middle;\n",
       "    }\n",
       "\n",
       "    .dataframe tbody tr th {\n",
       "        vertical-align: top;\n",
       "    }\n",
       "\n",
       "    .dataframe thead th {\n",
       "        text-align: right;\n",
       "    }\n",
       "</style>\n",
       "<table border=\"1\" class=\"dataframe\">\n",
       "  <thead>\n",
       "    <tr style=\"text-align: right;\">\n",
       "      <th></th>\n",
       "      <th>tscategory</th>\n",
       "      <th>tsshort</th>\n",
       "      <th>tslong</th>\n",
       "      <th>tsunitsshort</th>\n",
       "      <th>tsunitslong</th>\n",
       "      <th>tsunique</th>\n",
       "    </tr>\n",
       "  </thead>\n",
       "  <tbody>\n",
       "    <tr>\n",
       "      <th>0</th>\n",
       "      <td>CATCH or LANDINGS</td>\n",
       "      <td>CdivMSY</td>\n",
       "      <td>Catch divided by MSY</td>\n",
       "      <td>ratio</td>\n",
       "      <td>ratio</td>\n",
       "      <td>CdivMSY-ratio</td>\n",
       "    </tr>\n",
       "  </tbody>\n",
       "</table>\n",
       "</div>"
      ],
      "text/plain": [
       "          tscategory  tsshort                tslong tsunitsshort tsunitslong  \\\n",
       "0  CATCH or LANDINGS  CdivMSY  Catch divided by MSY        ratio       ratio   \n",
       "\n",
       "        tsunique  \n",
       "0  CdivMSY-ratio  "
      ]
     },
     "execution_count": 3,
     "metadata": {},
     "output_type": "execute_result"
    }
   ],
   "source": [
    "tsmetrics.filter(_.tsunique == \"CdivMSY-ratio\").head().execute()"
   ]
  },
  {
   "cell_type": "code",
   "execution_count": 4,
   "id": "d509ebdb",
   "metadata": {},
   "outputs": [
    {
     "data": {
      "text/html": [
       "<div>\n",
       "<style scoped>\n",
       "    .dataframe tbody tr th:only-of-type {\n",
       "        vertical-align: middle;\n",
       "    }\n",
       "\n",
       "    .dataframe tbody tr th {\n",
       "        vertical-align: top;\n",
       "    }\n",
       "\n",
       "    .dataframe thead th {\n",
       "        text-align: right;\n",
       "    }\n",
       "</style>\n",
       "<table border=\"1\" class=\"dataframe\">\n",
       "  <thead>\n",
       "    <tr style=\"text-align: right;\">\n",
       "      <th></th>\n",
       "      <th>tsid</th>\n",
       "    </tr>\n",
       "  </thead>\n",
       "  <tbody>\n",
       "    <tr>\n",
       "      <th>0</th>\n",
       "      <td>CdivMEANC-ratio</td>\n",
       "    </tr>\n",
       "    <tr>\n",
       "      <th>1</th>\n",
       "      <td>TC-MT</td>\n",
       "    </tr>\n",
       "    <tr>\n",
       "      <th>2</th>\n",
       "      <td>TL-MT</td>\n",
       "    </tr>\n",
       "    <tr>\n",
       "      <th>3</th>\n",
       "      <td>TCbest-MT</td>\n",
       "    </tr>\n",
       "  </tbody>\n",
       "</table>\n",
       "</div>"
      ],
      "text/plain": [
       "              tsid\n",
       "0  CdivMEANC-ratio\n",
       "1            TC-MT\n",
       "2            TL-MT\n",
       "3        TCbest-MT"
      ]
     },
     "execution_count": 4,
     "metadata": {},
     "output_type": "execute_result"
    }
   ],
   "source": [
    "timeseries.filter(_.stockid == \"COD1ABCDE\").select(_.tsid).distinct().execute()"
   ]
  },
  {
   "cell_type": "code",
   "execution_count": 26,
   "id": "86cd4f05",
   "metadata": {},
   "outputs": [],
   "source": [
    "fish = (timeseries\n",
    "    .drop(_.stocklong)\n",
    "    .rename(tsunique = \"tsid\")\n",
    "    .join(tsmetrics, \"tsunique\")\n",
    "    .join(stock, \"stockid\")\n",
    "    .join(assessment, \"assessid\")\n",
    ")\n",
    "\n",
    "new_fish = (\n",
    "    fish.rename(country = 'primary_country')\n",
    "    .join(area, 'country')\n",
    ")\n",
    "\n",
    "cod_catch = (new_fish\n",
    "    .filter(_.tscategory == \"CATCH or LANDINGS\")\n",
    "    .filter(_.tsunique == \"TCbest-MT\")\n",
    "    .filter(_.commonname == 'Atlantic cod')\n",
    "    )"
   ]
  },
  {
   "cell_type": "code",
   "execution_count": 27,
   "id": "a6528699",
   "metadata": {},
   "outputs": [
    {
     "data": {
      "text/html": [
       "<div>\n",
       "<style scoped>\n",
       "    .dataframe tbody tr th:only-of-type {\n",
       "        vertical-align: middle;\n",
       "    }\n",
       "\n",
       "    .dataframe tbody tr th {\n",
       "        vertical-align: top;\n",
       "    }\n",
       "\n",
       "    .dataframe thead th {\n",
       "        text-align: right;\n",
       "    }\n",
       "</style>\n",
       "<table border=\"1\" class=\"dataframe\">\n",
       "  <thead>\n",
       "    <tr style=\"text-align: right;\">\n",
       "      <th></th>\n",
       "      <th>assessid</th>\n",
       "      <th>tsvalue</th>\n",
       "      <th>tsyear</th>\n",
       "      <th>areaid</th>\n",
       "    </tr>\n",
       "  </thead>\n",
       "  <tbody>\n",
       "    <tr>\n",
       "      <th>0</th>\n",
       "      <td>TRAC-COD5Zjm-1977-2017-SISIMP2021</td>\n",
       "      <td>2429</td>\n",
       "      <td>2000</td>\n",
       "      <td>multinational-TRAC-5Zjm</td>\n",
       "    </tr>\n",
       "    <tr>\n",
       "      <th>1</th>\n",
       "      <td>TRAC-COD5Zjm-1978-2010-WATSON</td>\n",
       "      <td>1640</td>\n",
       "      <td>2000</td>\n",
       "      <td>multinational-TRAC-5Zjm</td>\n",
       "    </tr>\n",
       "    <tr>\n",
       "      <th>2</th>\n",
       "      <td>TRAC-COD5Zjm-1978-2018-SISIMP2021-2</td>\n",
       "      <td>788</td>\n",
       "      <td>2000</td>\n",
       "      <td>multinational-TRAC-5Zjm</td>\n",
       "    </tr>\n",
       "    <tr>\n",
       "      <th>3</th>\n",
       "      <td>TRAC-COD5Zjm-1978-2019-SISIMP2021-2</td>\n",
       "      <td>788</td>\n",
       "      <td>2000</td>\n",
       "      <td>multinational-TRAC-5Zjm</td>\n",
       "    </tr>\n",
       "    <tr>\n",
       "      <th>4</th>\n",
       "      <td>TRAC-COD5Zjm-1978-2020-SISIMP2021-2</td>\n",
       "      <td>788</td>\n",
       "      <td>2000</td>\n",
       "      <td>multinational-TRAC-5Zjm</td>\n",
       "    </tr>\n",
       "    <tr>\n",
       "      <th>...</th>\n",
       "      <td>...</td>\n",
       "      <td>...</td>\n",
       "      <td>...</td>\n",
       "      <td>...</td>\n",
       "    </tr>\n",
       "    <tr>\n",
       "      <th>1444</th>\n",
       "      <td>TRAC-COD5Zjm-1978-2018-SISIMP2021-2</td>\n",
       "      <td>788</td>\n",
       "      <td>2000</td>\n",
       "      <td>multinational-TRAC-5Zjm</td>\n",
       "    </tr>\n",
       "    <tr>\n",
       "      <th>1445</th>\n",
       "      <td>TRAC-COD5Zjm-1978-2019-SISIMP2021-2</td>\n",
       "      <td>788</td>\n",
       "      <td>2000</td>\n",
       "      <td>multinational-TRAC-5Zjm</td>\n",
       "    </tr>\n",
       "    <tr>\n",
       "      <th>1446</th>\n",
       "      <td>TRAC-COD5Zjm-1978-2020-SISIMP2021-2</td>\n",
       "      <td>788</td>\n",
       "      <td>2000</td>\n",
       "      <td>multinational-TRAC-5Zjm</td>\n",
       "    </tr>\n",
       "    <tr>\n",
       "      <th>1447</th>\n",
       "      <td>TRAC-COD5Zjm-1978-2015-SISIMP2016</td>\n",
       "      <td>2430</td>\n",
       "      <td>2000</td>\n",
       "      <td>multinational-TRAC-5Zjm</td>\n",
       "    </tr>\n",
       "    <tr>\n",
       "      <th>1448</th>\n",
       "      <td>TRAC-COD5Zjm-1977-2018-SISIMP2021</td>\n",
       "      <td>2429</td>\n",
       "      <td>2000</td>\n",
       "      <td>multinational-TRAC-5Zjm</td>\n",
       "    </tr>\n",
       "  </tbody>\n",
       "</table>\n",
       "<p>1449 rows × 4 columns</p>\n",
       "</div>"
      ],
      "text/plain": [
       "                                 assessid tsvalue  tsyear  \\\n",
       "0       TRAC-COD5Zjm-1977-2017-SISIMP2021    2429    2000   \n",
       "1           TRAC-COD5Zjm-1978-2010-WATSON    1640    2000   \n",
       "2     TRAC-COD5Zjm-1978-2018-SISIMP2021-2     788    2000   \n",
       "3     TRAC-COD5Zjm-1978-2019-SISIMP2021-2     788    2000   \n",
       "4     TRAC-COD5Zjm-1978-2020-SISIMP2021-2     788    2000   \n",
       "...                                   ...     ...     ...   \n",
       "1444  TRAC-COD5Zjm-1978-2018-SISIMP2021-2     788    2000   \n",
       "1445  TRAC-COD5Zjm-1978-2019-SISIMP2021-2     788    2000   \n",
       "1446  TRAC-COD5Zjm-1978-2020-SISIMP2021-2     788    2000   \n",
       "1447    TRAC-COD5Zjm-1978-2015-SISIMP2016    2430    2000   \n",
       "1448    TRAC-COD5Zjm-1977-2018-SISIMP2021    2429    2000   \n",
       "\n",
       "                       areaid  \n",
       "0     multinational-TRAC-5Zjm  \n",
       "1     multinational-TRAC-5Zjm  \n",
       "2     multinational-TRAC-5Zjm  \n",
       "3     multinational-TRAC-5Zjm  \n",
       "4     multinational-TRAC-5Zjm  \n",
       "...                       ...  \n",
       "1444  multinational-TRAC-5Zjm  \n",
       "1445  multinational-TRAC-5Zjm  \n",
       "1446  multinational-TRAC-5Zjm  \n",
       "1447  multinational-TRAC-5Zjm  \n",
       "1448  multinational-TRAC-5Zjm  \n",
       "\n",
       "[1449 rows x 4 columns]"
      ]
     },
     "execution_count": 27,
     "metadata": {},
     "output_type": "execute_result"
    }
   ],
   "source": [
    "cod_catch.filter(_.tsyear == 2000, _.stockid == \"COD5Zjm\").select(_.assessid, _.tsvalue, _.tsyear, _.areaid).execute()"
   ]
  },
  {
   "cell_type": "code",
   "execution_count": 28,
   "id": "2e1a21ab",
   "metadata": {},
   "outputs": [],
   "source": [
    "cod_catch = cod_catch.mutate(tsvalue=_.tsvalue.cast(\"double\"))\n",
    "\n",
    "\n",
    "\n",
    "\n",
    "\n"
   ]
  },
  {
   "cell_type": "code",
   "execution_count": 29,
   "id": "8e2d09ca",
   "metadata": {},
   "outputs": [
    {
     "ename": "ConversionException",
     "evalue": "Conversion Error: Could not convert string 'NA' to DOUBLE\nLINE 1: ...ear, CAST(t15.tsvalue AS DOUBLE) AS tsvalue, t15.tscategory, t15.tsshort, t15....\n                                                  ^",
     "output_type": "error",
     "traceback": [
      "\u001b[0;31m---------------------------------------------------------------------------\u001b[0m",
      "\u001b[0;31mConversionException\u001b[0m                       Traceback (most recent call last)",
      "Cell \u001b[0;32mIn[29], line 1\u001b[0m\n\u001b[0;32m----> 1\u001b[0m \u001b[43mcod_catch\u001b[49m\u001b[38;5;241;43m.\u001b[39;49m\u001b[43mgroup_by\u001b[49m\u001b[43m(\u001b[49m\u001b[43m_\u001b[49m\u001b[38;5;241;43m.\u001b[39;49m\u001b[43mcountry\u001b[49m\u001b[43m,\u001b[49m\u001b[43m \u001b[49m\u001b[43m_\u001b[49m\u001b[38;5;241;43m.\u001b[39;49m\u001b[43mtsyear\u001b[49m\u001b[43m,\u001b[49m\u001b[43m \u001b[49m\u001b[43m_\u001b[49m\u001b[38;5;241;43m.\u001b[39;49m\u001b[43mareaid\u001b[49m\u001b[43m)\u001b[49m\u001b[38;5;241;43m.\u001b[39;49m\u001b[43maggregate\u001b[49m\u001b[43m(\u001b[49m\u001b[43mtsvalue\u001b[49m\u001b[38;5;241;43m=\u001b[39;49m\u001b[43m_\u001b[49m\u001b[38;5;241;43m.\u001b[39;49m\u001b[43mtsvalue\u001b[49m\u001b[38;5;241;43m.\u001b[39;49m\u001b[43mmean\u001b[49m\u001b[43m(\u001b[49m\u001b[43m)\u001b[49m\u001b[43m)\u001b[49m\u001b[38;5;241;43m.\u001b[39;49m\u001b[43mexecute\u001b[49m\u001b[43m(\u001b[49m\u001b[43m)\u001b[49m\n",
      "File \u001b[0;32m/srv/conda/envs/notebook/lib/python3.11/site-packages/ibis/expr/types/core.py:404\u001b[0m, in \u001b[0;36mExpr.execute\u001b[0;34m(self, limit, params, **kwargs)\u001b[0m\n\u001b[1;32m    386\u001b[0m \u001b[38;5;28;01mdef\u001b[39;00m \u001b[38;5;21mexecute\u001b[39m(\n\u001b[1;32m    387\u001b[0m     \u001b[38;5;28mself\u001b[39m,\n\u001b[1;32m    388\u001b[0m     limit: \u001b[38;5;28mint\u001b[39m \u001b[38;5;241m|\u001b[39m \u001b[38;5;28mstr\u001b[39m \u001b[38;5;241m|\u001b[39m \u001b[38;5;28;01mNone\u001b[39;00m \u001b[38;5;241m=\u001b[39m \u001b[38;5;124m\"\u001b[39m\u001b[38;5;124mdefault\u001b[39m\u001b[38;5;124m\"\u001b[39m,\n\u001b[1;32m    389\u001b[0m     params: Mapping[ir\u001b[38;5;241m.\u001b[39mValue, Any] \u001b[38;5;241m|\u001b[39m \u001b[38;5;28;01mNone\u001b[39;00m \u001b[38;5;241m=\u001b[39m \u001b[38;5;28;01mNone\u001b[39;00m,\n\u001b[1;32m    390\u001b[0m     \u001b[38;5;241m*\u001b[39m\u001b[38;5;241m*\u001b[39mkwargs: Any,\n\u001b[1;32m    391\u001b[0m ):\n\u001b[1;32m    392\u001b[0m \u001b[38;5;250m    \u001b[39m\u001b[38;5;124;03m\"\"\"Execute an expression against its backend if one exists.\u001b[39;00m\n\u001b[1;32m    393\u001b[0m \n\u001b[1;32m    394\u001b[0m \u001b[38;5;124;03m    Parameters\u001b[39;00m\n\u001b[0;32m   (...)\u001b[0m\n\u001b[1;32m    402\u001b[0m \u001b[38;5;124;03m        Keyword arguments\u001b[39;00m\n\u001b[1;32m    403\u001b[0m \u001b[38;5;124;03m    \"\"\"\u001b[39;00m\n\u001b[0;32m--> 404\u001b[0m     \u001b[38;5;28;01mreturn\u001b[39;00m \u001b[38;5;28;43mself\u001b[39;49m\u001b[38;5;241;43m.\u001b[39;49m\u001b[43m_find_backend\u001b[49m\u001b[43m(\u001b[49m\u001b[43muse_default\u001b[49m\u001b[38;5;241;43m=\u001b[39;49m\u001b[38;5;28;43;01mTrue\u001b[39;49;00m\u001b[43m)\u001b[49m\u001b[38;5;241;43m.\u001b[39;49m\u001b[43mexecute\u001b[49m\u001b[43m(\u001b[49m\n\u001b[1;32m    405\u001b[0m \u001b[43m        \u001b[49m\u001b[38;5;28;43mself\u001b[39;49m\u001b[43m,\u001b[49m\u001b[43m \u001b[49m\u001b[43mlimit\u001b[49m\u001b[38;5;241;43m=\u001b[39;49m\u001b[43mlimit\u001b[49m\u001b[43m,\u001b[49m\u001b[43m \u001b[49m\u001b[43mparams\u001b[49m\u001b[38;5;241;43m=\u001b[39;49m\u001b[43mparams\u001b[49m\u001b[43m,\u001b[49m\u001b[43m \u001b[49m\u001b[38;5;241;43m*\u001b[39;49m\u001b[38;5;241;43m*\u001b[39;49m\u001b[43mkwargs\u001b[49m\n\u001b[1;32m    406\u001b[0m \u001b[43m    \u001b[49m\u001b[43m)\u001b[49m\n",
      "File \u001b[0;32m/srv/conda/envs/notebook/lib/python3.11/site-packages/ibis/backends/duckdb/__init__.py:1427\u001b[0m, in \u001b[0;36mBackend.execute\u001b[0;34m(self, expr, params, limit, **_)\u001b[0m\n\u001b[1;32m   1424\u001b[0m \u001b[38;5;28;01mimport\u001b[39;00m \u001b[38;5;21;01mpandas\u001b[39;00m \u001b[38;5;28;01mas\u001b[39;00m \u001b[38;5;21;01mpd\u001b[39;00m\n\u001b[1;32m   1425\u001b[0m \u001b[38;5;28;01mimport\u001b[39;00m \u001b[38;5;21;01mpyarrow\u001b[39;00m\u001b[38;5;21;01m.\u001b[39;00m\u001b[38;5;21;01mtypes\u001b[39;00m \u001b[38;5;28;01mas\u001b[39;00m \u001b[38;5;21;01mpat\u001b[39;00m\n\u001b[0;32m-> 1427\u001b[0m table \u001b[38;5;241m=\u001b[39m \u001b[38;5;28;43mself\u001b[39;49m\u001b[38;5;241;43m.\u001b[39;49m\u001b[43m_to_duckdb_relation\u001b[49m\u001b[43m(\u001b[49m\u001b[43mexpr\u001b[49m\u001b[43m,\u001b[49m\u001b[43m \u001b[49m\u001b[43mparams\u001b[49m\u001b[38;5;241;43m=\u001b[39;49m\u001b[43mparams\u001b[49m\u001b[43m,\u001b[49m\u001b[43m \u001b[49m\u001b[43mlimit\u001b[49m\u001b[38;5;241;43m=\u001b[39;49m\u001b[43mlimit\u001b[49m\u001b[43m)\u001b[49m\u001b[38;5;241;43m.\u001b[39;49m\u001b[43marrow\u001b[49m\u001b[43m(\u001b[49m\u001b[43m)\u001b[49m\n\u001b[1;32m   1429\u001b[0m df \u001b[38;5;241m=\u001b[39m pd\u001b[38;5;241m.\u001b[39mDataFrame(\n\u001b[1;32m   1430\u001b[0m     {\n\u001b[1;32m   1431\u001b[0m         name: (\n\u001b[0;32m   (...)\u001b[0m\n\u001b[1;32m   1443\u001b[0m     }\n\u001b[1;32m   1444\u001b[0m )\n\u001b[1;32m   1445\u001b[0m df \u001b[38;5;241m=\u001b[39m DuckDBPandasData\u001b[38;5;241m.\u001b[39mconvert_table(df, expr\u001b[38;5;241m.\u001b[39mas_table()\u001b[38;5;241m.\u001b[39mschema())\n",
      "\u001b[0;31mConversionException\u001b[0m: Conversion Error: Could not convert string 'NA' to DOUBLE\nLINE 1: ...ear, CAST(t15.tsvalue AS DOUBLE) AS tsvalue, t15.tscategory, t15.tsshort, t15....\n                                                  ^"
     ]
    }
   ],
   "source": [
    "cod_catch.group_by(_.country, _.tsyear, _.areaid).aggregate(tsvalue=_.tsvalue.mean()).execute()\n"
   ]
  },
  {
   "cell_type": "markdown",
   "id": "88f42ebf-a09d-4cf9-8748-12bf7889c2db",
   "metadata": {},
   "source": [
    "# Excersise 2: Global Fisheries \n",
    "\n",
    "## Stock Collapses\n",
    "\n",
    "We seek to replicate the temporal trend in stock declines shown in [Worm et al 2006](http://doi.org/10.1126/science.1132294):\n",
    "\n",
    "![](https://espm-157.github.io/website-r/img/worm2006.jpg)"
   ]
  },
  {
   "cell_type": "code",
   "execution_count": null,
   "id": "0cf887f4-6d94-45f4-8667-512b302d65c6",
   "metadata": {},
   "outputs": [],
   "source": []
  }
 ],
 "metadata": {
  "kernelspec": {
   "display_name": "notebook",
   "language": "python",
   "name": "python3"
  },
  "language_info": {
   "codemirror_mode": {
    "name": "ipython",
    "version": 3
   },
   "file_extension": ".py",
   "mimetype": "text/x-python",
   "name": "python",
   "nbconvert_exporter": "python",
   "pygments_lexer": "ipython3",
   "version": "3.11.11"
  }
 },
 "nbformat": 4,
 "nbformat_minor": 5
}
